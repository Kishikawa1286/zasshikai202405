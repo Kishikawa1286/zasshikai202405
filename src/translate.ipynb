{
 "cells": [
  {
   "cell_type": "code",
   "execution_count": 1,
   "metadata": {},
   "outputs": [],
   "source": [
    "TEX_PATH='../example/original.tex'\n",
    "MD_PATH='../example/original.md'\n",
    "TRANSLATION_MD_PATH='../example/translated.md'"
   ]
  },
  {
   "cell_type": "code",
   "execution_count": 2,
   "metadata": {},
   "outputs": [],
   "source": [
    "corr_list = \"\"\"\n",
    "Hello World!: Hello World!\n",
    "\"\"\""
   ]
  },
  {
   "cell_type": "code",
   "execution_count": 3,
   "metadata": {},
   "outputs": [],
   "source": [
    "if not TEX_PATH.endswith('.tex'):\n",
    "    raise ValueError('Input file path must end with .tex')\n",
    "if not MD_PATH.endswith('.md'):\n",
    "    raise ValueError('Output file path must end with .md')\n",
    "if not TRANSLATION_MD_PATH.endswith('.md'):\n",
    "    raise ValueError('Output file path must end with .md')"
   ]
  },
  {
   "cell_type": "code",
   "execution_count": 4,
   "metadata": {},
   "outputs": [],
   "source": [
    "with open(TEX_PATH, 'r', encoding='utf-8') as file:\n",
    "    latex = file.read()\n",
    "    file.close()"
   ]
  },
  {
   "cell_type": "code",
   "execution_count": 5,
   "metadata": {},
   "outputs": [
    {
     "data": {
      "text/plain": [
       "True"
      ]
     },
     "execution_count": 5,
     "metadata": {},
     "output_type": "execute_result"
    }
   ],
   "source": [
    "from dotenv import load_dotenv\n",
    "import sys\n",
    "sys.path.append('/workspaces/latex-summarizer/src')\n",
    "load_dotenv()"
   ]
  },
  {
   "cell_type": "code",
   "execution_count": 6,
   "metadata": {},
   "outputs": [],
   "source": [
    "import nest_asyncio\n",
    "\n",
    "from utils.latex_to_markdown import latex_to_markdown\n",
    "from utils.split_text import split_md_text\n",
    "from utils.translate import translate_chunks\n",
    "\n",
    "nest_asyncio.apply()"
   ]
  },
  {
   "cell_type": "code",
   "execution_count": 7,
   "metadata": {},
   "outputs": [],
   "source": [
    "md = latex_to_markdown(latex)"
   ]
  },
  {
   "cell_type": "code",
   "execution_count": 8,
   "metadata": {},
   "outputs": [],
   "source": [
    "with open(MD_PATH, 'w', encoding='utf-8') as file:\n",
    "    file.write(md)"
   ]
  },
  {
   "cell_type": "code",
   "execution_count": 9,
   "metadata": {},
   "outputs": [],
   "source": [
    "chunks = split_md_text(md, max_chars_per_chunk=5000)"
   ]
  },
  {
   "cell_type": "code",
   "execution_count": 10,
   "metadata": {},
   "outputs": [
    {
     "name": "stdout",
     "output_type": "stream",
     "text": [
      "Number of chunks need to be translated:  2\n"
     ]
    }
   ],
   "source": [
    "cnt = 0\n",
    "\n",
    "for i in range(len(chunks)):\n",
    "    chunk = chunks[i]\n",
    "    if chunk.startswith('$$'):\n",
    "        continue\n",
    "    if chunk.startswith('|'):\n",
    "        continue\n",
    "    cnt += 1\n",
    "\n",
    "print(\"Number of chunks need to be translated: \", cnt)"
   ]
  },
  {
   "cell_type": "code",
   "execution_count": 11,
   "metadata": {},
   "outputs": [
    {
     "name": "stdout",
     "output_type": "stream",
     "text": [
      "Processing batch 1 of 1\n"
     ]
    }
   ],
   "source": [
    "tranlated_chunks = await translate_chunks(\n",
    "    chunks, corr_list, batch_size=5, timeout=20000)"
   ]
  },
  {
   "cell_type": "code",
   "execution_count": 12,
   "metadata": {},
   "outputs": [],
   "source": [
    "with open(TRANSLATION_MD_PATH, 'w', encoding='utf-8') as file:\n",
    "    file.write('\\n\\n'.join(map(lambda chunk: str(chunk), tranlated_chunks)))\n",
    "    file.close()"
   ]
  },
  {
   "cell_type": "code",
   "execution_count": null,
   "metadata": {},
   "outputs": [],
   "source": []
  }
 ],
 "metadata": {
  "kernelspec": {
   "display_name": "Python 3",
   "language": "python",
   "name": "python3"
  },
  "language_info": {
   "codemirror_mode": {
    "name": "ipython",
    "version": 3
   },
   "file_extension": ".py",
   "mimetype": "text/x-python",
   "name": "python",
   "nbconvert_exporter": "python",
   "pygments_lexer": "ipython3",
   "version": "3.10.6"
  },
  "orig_nbformat": 4
 },
 "nbformat": 4,
 "nbformat_minor": 2
}
